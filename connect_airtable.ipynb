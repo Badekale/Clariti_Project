{
 "cells": [
  {
   "cell_type": "code",
   "execution_count": 1,
   "metadata": {
    "slideshow": {
     "slide_type": "skip"
    }
   },
   "outputs": [],
   "source": [
    "import re\n",
    "import os\n",
    "import numpy as np\n",
    "from statistics import mode\n",
    "import pickle\n",
    "import datetime as dt\n",
    "import scipy.spatial"
   ]
  },
  {
   "cell_type": "code",
   "execution_count": 2,
   "metadata": {
    "scrolled": true,
    "slideshow": {
     "slide_type": "skip"
    }
   },
   "outputs": [],
   "source": [
    "import pandas as pd\n",
    "import nltk\n",
    "from nltk.stem import WordNetLemmatizer\n",
    "from nltk.corpus import wordnet,stopwords\n",
    "import string\n",
    "import spacy"
   ]
  },
  {
   "cell_type": "code",
   "execution_count": 3,
   "metadata": {},
   "outputs": [],
   "source": [
    "import tensorflow as tf\n",
    "import tensorflow_hub as hub\n",
    "from airtable import Airtable\n",
    "from IPython.core.display import display, HTML"
   ]
  },
  {
   "cell_type": "code",
   "execution_count": 4,
   "metadata": {
    "slideshow": {
     "slide_type": "skip"
    }
   },
   "outputs": [],
   "source": [
    "lemmatizer = WordNetLemmatizer() "
   ]
  },
  {
   "cell_type": "code",
   "execution_count": 5,
   "metadata": {
    "scrolled": true,
    "slideshow": {
     "slide_type": "skip"
    }
   },
   "outputs": [],
   "source": [
    "nlp = spacy.load('en', disable=['parser', 'ner'])\n",
    "stop_words = set(stopwords.words('english'))"
   ]
  },
  {
   "cell_type": "code",
   "execution_count": 6,
   "metadata": {},
   "outputs": [
    {
     "data": {
      "text/plain": [
       "'badly'"
      ]
     },
     "execution_count": 6,
     "metadata": {},
     "output_type": "execute_result"
    }
   ],
   "source": [
    "sam =nlp('badly')\n",
    "\n",
    "\" \".join([token.lemma_ for token in sam])\n",
    "\n",
    "# clean('i am going to be worked up')"
   ]
  },
  {
   "cell_type": "code",
   "execution_count": 7,
   "metadata": {
    "slideshow": {
     "slide_type": "skip"
    }
   },
   "outputs": [],
   "source": [
    "\n",
    "def remove_stopwords(tokenized_text): \n",
    "    text = tokenized_text.split(' ')\n",
    "    text = \" \".join([word for word in text if word not in stop_words])\n",
    "    return text\n",
    " \n",
    "def get_wordnet_pos(word):\n",
    "    \"\"\"Map POS tag to first character lemmatize() accepts\"\"\"\n",
    "    tag = nltk.pos_tag([word])[0][1][0].upper()\n",
    "    tag_dict = {\"J\": wordnet.ADJ,\n",
    "                \"N\": wordnet.NOUN,\n",
    "                \"V\": wordnet.VERB,\n",
    "                \"R\": wordnet.ADV}\n",
    "\n",
    "    return tag_dict.get(tag, wordnet.NOUN)\n",
    "\n",
    "def clean(aa):\n",
    "    aa = aa.lower()\n",
    "    aa = remove_stopwords(aa)\n",
    "    aa = re.sub('[%s]' % re.escape('/-()'), ' ', aa)\n",
    "    table = str.maketrans('', '', string.punctuation)\n",
    "    aa = aa.translate(table)\n",
    "    aa= re.sub(r\"\\s+\", ' ', aa)\n",
    "    aa = aa.strip()\n",
    "    # for lemmatization (going=go, boys=boy)\n",
    "    aa = nlp(aa)\n",
    "    aa = \" \".join([token.lemma_ for token in aa])\n",
    "    \n",
    "    aa = re.sub(r'\\b(\\w+)( \\1\\b)+', r'\\1', aa)\n",
    "    return aa"
   ]
  },
  {
   "cell_type": "markdown",
   "metadata": {
    "slideshow": {
     "slide_type": "slide"
    }
   },
   "source": [
    "## Connection to Airtable\n",
    "- Ensure no filters are applied before running the connect code"
   ]
  },
  {
   "cell_type": "code",
   "execution_count": 9,
   "metadata": {
    "slideshow": {
     "slide_type": "-"
    }
   },
   "outputs": [],
   "source": [
    "base_key ='appeOkjFAXjcPBnTJ'\n",
    "key_api = '*****************'\n",
    "table_name ='Imported table Edited'"
   ]
  },
  {
   "cell_type": "code",
   "execution_count": 11,
   "metadata": {
    "slideshow": {
     "slide_type": "-"
    }
   },
   "outputs": [
    {
     "name": "stdout",
     "output_type": "stream",
     "text": [
      "<Airtable table:Imported table Edited>\n"
     ]
    }
   ],
   "source": [
    "airtable = Airtable(base_key, table_name, api_key=key_api)\n",
    "print(airtable)"
   ]
  },
  {
   "cell_type": "code",
   "execution_count": 12,
   "metadata": {
    "scrolled": true,
    "slideshow": {
     "slide_type": "-"
    }
   },
   "outputs": [],
   "source": [
    "# records = airtable.get_all(maxRecords=2)\n",
    "records = airtable.get_all(view='database',fields=['Capabilties','Domain'])\n",
    "df = pd.DataFrame.from_records((r['fields'] for r in records))"
   ]
  },
  {
   "cell_type": "code",
   "execution_count": 13,
   "metadata": {},
   "outputs": [
    {
     "name": "stdout",
     "output_type": "stream",
     "text": [
      "<class 'pandas.core.frame.DataFrame'>\n",
      "RangeIndex: 1084 entries, 0 to 1083\n",
      "Data columns (total 2 columns):\n",
      " #   Column       Non-Null Count  Dtype \n",
      "---  ------       --------------  ----- \n",
      " 0   Capabilties  1084 non-null   object\n",
      " 1   Domain       1084 non-null   object\n",
      "dtypes: object(2)\n",
      "memory usage: 17.1+ KB\n"
     ]
    }
   ],
   "source": [
    "df.info()"
   ]
  },
  {
   "cell_type": "markdown",
   "metadata": {
    "slideshow": {
     "slide_type": "slide"
    }
   },
   "source": [
    "### Domain was in list format"
   ]
  },
  {
   "cell_type": "code",
   "execution_count": 14,
   "metadata": {
    "scrolled": true,
    "slideshow": {
     "slide_type": "-"
    }
   },
   "outputs": [
    {
     "data": {
      "text/html": [
       "<div>\n",
       "<style scoped>\n",
       "    .dataframe tbody tr th:only-of-type {\n",
       "        vertical-align: middle;\n",
       "    }\n",
       "\n",
       "    .dataframe tbody tr th {\n",
       "        vertical-align: top;\n",
       "    }\n",
       "\n",
       "    .dataframe thead th {\n",
       "        text-align: right;\n",
       "    }\n",
       "</style>\n",
       "<table border=\"1\" class=\"dataframe\">\n",
       "  <thead>\n",
       "    <tr style=\"text-align: right;\">\n",
       "      <th></th>\n",
       "      <th>Capabilties</th>\n",
       "      <th>Domain</th>\n",
       "    </tr>\n",
       "  </thead>\n",
       "  <tbody>\n",
       "    <tr>\n",
       "      <th>0</th>\n",
       "      <td>Ability to review outstanding Service Requests</td>\n",
       "      <td>[Permits, Licenses, Citizen Request, Planning and Zoning, Inspections, Code Enforcement, Finance]</td>\n",
       "    </tr>\n",
       "    <tr>\n",
       "      <th>1</th>\n",
       "      <td>Ability to view a GIS map</td>\n",
       "      <td>[Permits, Licenses, Citizen Request, Planning and Zoning, Inspections, Code Enforcement, Finance]</td>\n",
       "    </tr>\n",
       "    <tr>\n",
       "      <th>2</th>\n",
       "      <td>Ability to update close (change Status) a Service Requests</td>\n",
       "      <td>[Permits, Licenses, Citizen Request, Planning and Zoning, Inspections, Code Enforcement, Finance]</td>\n",
       "    </tr>\n",
       "    <tr>\n",
       "      <th>3</th>\n",
       "      <td>Ability to view the location of a permit on a map</td>\n",
       "      <td>[Permits, Licenses, Citizen Request, Planning and Zoning, Inspections, Code Enforcement, Finance]</td>\n",
       "    </tr>\n",
       "    <tr>\n",
       "      <th>4</th>\n",
       "      <td>Ability to view outstanding Service Requests</td>\n",
       "      <td>[Permits, Licenses, Citizen Request, Planning and Zoning, Inspections, Code Enforcement, Finance]</td>\n",
       "    </tr>\n",
       "    <tr>\n",
       "      <th>5</th>\n",
       "      <td>Ability to change the owner on a Service Requests</td>\n",
       "      <td>[Permits, Licenses, Citizen Request, Planning and Zoning, Inspections, Code Enforcement, Finance]</td>\n",
       "    </tr>\n",
       "    <tr>\n",
       "      <th>6</th>\n",
       "      <td>Ability to view the location of a license on a map</td>\n",
       "      <td>[Permits, Licenses, Citizen Request, Planning and Zoning, Inspections, Code Enforcement, Finance]</td>\n",
       "    </tr>\n",
       "  </tbody>\n",
       "</table>\n",
       "</div>"
      ],
      "text/plain": [
       "                                                  Capabilties  \\\n",
       "0              Ability to review outstanding Service Requests   \n",
       "1                                  Ability to view a GIS map    \n",
       "2  Ability to update close (change Status) a Service Requests   \n",
       "3           Ability to view the location of a permit on a map   \n",
       "4                Ability to view outstanding Service Requests   \n",
       "5           Ability to change the owner on a Service Requests   \n",
       "6          Ability to view the location of a license on a map   \n",
       "\n",
       "                                                                                              Domain  \n",
       "0  [Permits, Licenses, Citizen Request, Planning and Zoning, Inspections, Code Enforcement, Finance]  \n",
       "1  [Permits, Licenses, Citizen Request, Planning and Zoning, Inspections, Code Enforcement, Finance]  \n",
       "2  [Permits, Licenses, Citizen Request, Planning and Zoning, Inspections, Code Enforcement, Finance]  \n",
       "3  [Permits, Licenses, Citizen Request, Planning and Zoning, Inspections, Code Enforcement, Finance]  \n",
       "4  [Permits, Licenses, Citizen Request, Planning and Zoning, Inspections, Code Enforcement, Finance]  \n",
       "5  [Permits, Licenses, Citizen Request, Planning and Zoning, Inspections, Code Enforcement, Finance]  \n",
       "6  [Permits, Licenses, Citizen Request, Planning and Zoning, Inspections, Code Enforcement, Finance]  "
      ]
     },
     "execution_count": 14,
     "metadata": {},
     "output_type": "execute_result"
    }
   ],
   "source": [
    "pd.set_option('display.max_colwidth', None)\n",
    "df.head(7)"
   ]
  },
  {
   "cell_type": "markdown",
   "metadata": {
    "slideshow": {
     "slide_type": "skip"
    }
   },
   "source": [
    "- Capabilities without a specific domain\n",
    "\n",
    "Numbers of Capabilties and Domain should be equal"
   ]
  },
  {
   "cell_type": "code",
   "execution_count": 15,
   "metadata": {
    "slideshow": {
     "slide_type": "skip"
    }
   },
   "outputs": [
    {
     "data": {
      "text/html": [
       "<div>\n",
       "<style scoped>\n",
       "    .dataframe tbody tr th:only-of-type {\n",
       "        vertical-align: middle;\n",
       "    }\n",
       "\n",
       "    .dataframe tbody tr th {\n",
       "        vertical-align: top;\n",
       "    }\n",
       "\n",
       "    .dataframe thead th {\n",
       "        text-align: right;\n",
       "    }\n",
       "</style>\n",
       "<table border=\"1\" class=\"dataframe\">\n",
       "  <thead>\n",
       "    <tr style=\"text-align: right;\">\n",
       "      <th></th>\n",
       "      <th>Capabilties</th>\n",
       "      <th>Domain</th>\n",
       "    </tr>\n",
       "  </thead>\n",
       "  <tbody>\n",
       "  </tbody>\n",
       "</table>\n",
       "</div>"
      ],
      "text/plain": [
       "Empty DataFrame\n",
       "Columns: [Capabilties, Domain]\n",
       "Index: []"
      ]
     },
     "execution_count": 15,
     "metadata": {},
     "output_type": "execute_result"
    }
   ],
   "source": [
    "df[df['Domain'].isnull()]"
   ]
  },
  {
   "cell_type": "markdown",
   "metadata": {
    "slideshow": {
     "slide_type": "skip"
    }
   },
   "source": [
    "## Exploding the domain column "
   ]
  },
  {
   "cell_type": "code",
   "execution_count": 16,
   "metadata": {
    "slideshow": {
     "slide_type": "skip"
    }
   },
   "outputs": [
    {
     "data": {
      "text/html": [
       "<div>\n",
       "<style scoped>\n",
       "    .dataframe tbody tr th:only-of-type {\n",
       "        vertical-align: middle;\n",
       "    }\n",
       "\n",
       "    .dataframe tbody tr th {\n",
       "        vertical-align: top;\n",
       "    }\n",
       "\n",
       "    .dataframe thead th {\n",
       "        text-align: right;\n",
       "    }\n",
       "</style>\n",
       "<table border=\"1\" class=\"dataframe\">\n",
       "  <thead>\n",
       "    <tr style=\"text-align: right;\">\n",
       "      <th></th>\n",
       "      <th>0</th>\n",
       "      <th>1</th>\n",
       "      <th>2</th>\n",
       "      <th>3</th>\n",
       "      <th>4</th>\n",
       "      <th>5</th>\n",
       "      <th>6</th>\n",
       "      <th>7</th>\n",
       "      <th>Capabilties</th>\n",
       "      <th>Domain</th>\n",
       "    </tr>\n",
       "  </thead>\n",
       "  <tbody>\n",
       "    <tr>\n",
       "      <th>0</th>\n",
       "      <td>Permits</td>\n",
       "      <td>Licenses</td>\n",
       "      <td>Citizen Request</td>\n",
       "      <td>Planning and Zoning</td>\n",
       "      <td>Inspections</td>\n",
       "      <td>Code Enforcement</td>\n",
       "      <td>Finance</td>\n",
       "      <td>NaN</td>\n",
       "      <td>Ability to review outstanding Service Requests</td>\n",
       "      <td>[Permits, Licenses, Citizen Request, Planning and Zoning, Inspections, Code Enforcement, Finance]</td>\n",
       "    </tr>\n",
       "    <tr>\n",
       "      <th>1</th>\n",
       "      <td>Permits</td>\n",
       "      <td>Licenses</td>\n",
       "      <td>Citizen Request</td>\n",
       "      <td>Planning and Zoning</td>\n",
       "      <td>Inspections</td>\n",
       "      <td>Code Enforcement</td>\n",
       "      <td>Finance</td>\n",
       "      <td>NaN</td>\n",
       "      <td>Ability to view a GIS map</td>\n",
       "      <td>[Permits, Licenses, Citizen Request, Planning and Zoning, Inspections, Code Enforcement, Finance]</td>\n",
       "    </tr>\n",
       "    <tr>\n",
       "      <th>2</th>\n",
       "      <td>Permits</td>\n",
       "      <td>Licenses</td>\n",
       "      <td>Citizen Request</td>\n",
       "      <td>Planning and Zoning</td>\n",
       "      <td>Inspections</td>\n",
       "      <td>Code Enforcement</td>\n",
       "      <td>Finance</td>\n",
       "      <td>NaN</td>\n",
       "      <td>Ability to update close (change Status) a Service Requests</td>\n",
       "      <td>[Permits, Licenses, Citizen Request, Planning and Zoning, Inspections, Code Enforcement, Finance]</td>\n",
       "    </tr>\n",
       "    <tr>\n",
       "      <th>3</th>\n",
       "      <td>Permits</td>\n",
       "      <td>Licenses</td>\n",
       "      <td>Citizen Request</td>\n",
       "      <td>Planning and Zoning</td>\n",
       "      <td>Inspections</td>\n",
       "      <td>Code Enforcement</td>\n",
       "      <td>Finance</td>\n",
       "      <td>NaN</td>\n",
       "      <td>Ability to view the location of a permit on a map</td>\n",
       "      <td>[Permits, Licenses, Citizen Request, Planning and Zoning, Inspections, Code Enforcement, Finance]</td>\n",
       "    </tr>\n",
       "    <tr>\n",
       "      <th>4</th>\n",
       "      <td>Permits</td>\n",
       "      <td>Licenses</td>\n",
       "      <td>Citizen Request</td>\n",
       "      <td>Planning and Zoning</td>\n",
       "      <td>Inspections</td>\n",
       "      <td>Code Enforcement</td>\n",
       "      <td>Finance</td>\n",
       "      <td>NaN</td>\n",
       "      <td>Ability to view outstanding Service Requests</td>\n",
       "      <td>[Permits, Licenses, Citizen Request, Planning and Zoning, Inspections, Code Enforcement, Finance]</td>\n",
       "    </tr>\n",
       "  </tbody>\n",
       "</table>\n",
       "</div>"
      ],
      "text/plain": [
       "         0         1                2                    3            4  \\\n",
       "0  Permits  Licenses  Citizen Request  Planning and Zoning  Inspections   \n",
       "1  Permits  Licenses  Citizen Request  Planning and Zoning  Inspections   \n",
       "2  Permits  Licenses  Citizen Request  Planning and Zoning  Inspections   \n",
       "3  Permits  Licenses  Citizen Request  Planning and Zoning  Inspections   \n",
       "4  Permits  Licenses  Citizen Request  Planning and Zoning  Inspections   \n",
       "\n",
       "                  5        6    7  \\\n",
       "0  Code Enforcement  Finance  NaN   \n",
       "1  Code Enforcement  Finance  NaN   \n",
       "2  Code Enforcement  Finance  NaN   \n",
       "3  Code Enforcement  Finance  NaN   \n",
       "4  Code Enforcement  Finance  NaN   \n",
       "\n",
       "                                                  Capabilties  \\\n",
       "0              Ability to review outstanding Service Requests   \n",
       "1                                  Ability to view a GIS map    \n",
       "2  Ability to update close (change Status) a Service Requests   \n",
       "3           Ability to view the location of a permit on a map   \n",
       "4                Ability to view outstanding Service Requests   \n",
       "\n",
       "                                                                                              Domain  \n",
       "0  [Permits, Licenses, Citizen Request, Planning and Zoning, Inspections, Code Enforcement, Finance]  \n",
       "1  [Permits, Licenses, Citizen Request, Planning and Zoning, Inspections, Code Enforcement, Finance]  \n",
       "2  [Permits, Licenses, Citizen Request, Planning and Zoning, Inspections, Code Enforcement, Finance]  \n",
       "3  [Permits, Licenses, Citizen Request, Planning and Zoning, Inspections, Code Enforcement, Finance]  \n",
       "4  [Permits, Licenses, Citizen Request, Planning and Zoning, Inspections, Code Enforcement, Finance]  "
      ]
     },
     "execution_count": 16,
     "metadata": {},
     "output_type": "execute_result"
    }
   ],
   "source": [
    "df[\"Domain\"].apply(pd.Series)\\\n",
    "    .merge(df, right_index = True, left_index = True)\\\n",
    "    .head(5)"
   ]
  },
  {
   "cell_type": "code",
   "execution_count": 17,
   "metadata": {
    "slideshow": {
     "slide_type": "skip"
    }
   },
   "outputs": [],
   "source": [
    "df_melt =df[\"Domain\"].apply(pd.Series)\\\n",
    "    .merge(df, right_index = True, left_index = True)\\\n",
    "    .drop([\"Domain\"], axis = 1) \\\n",
    "    .melt(id_vars = ['Capabilties'], value_name = \"Domain\")\\\n",
    "    .drop(\"variable\", axis = 1)\\\n",
    "    .dropna(subset=['Domain'])\\\n",
    "    .reset_index(drop=True)"
   ]
  },
  {
   "cell_type": "code",
   "execution_count": 18,
   "metadata": {},
   "outputs": [],
   "source": [
    "df_melt[df_melt.Domain=='Finance'].reset_index(drop=True).to_csv('financials_capabilities.csv')"
   ]
  },
  {
   "cell_type": "code",
   "execution_count": 19,
   "metadata": {},
   "outputs": [
    {
     "name": "stdout",
     "output_type": "stream",
     "text": [
      "<class 'pandas.core.frame.DataFrame'>\n",
      "RangeIndex: 4357 entries, 0 to 4356\n",
      "Data columns (total 2 columns):\n",
      " #   Column       Non-Null Count  Dtype \n",
      "---  ------       --------------  ----- \n",
      " 0   Capabilties  4357 non-null   object\n",
      " 1   Domain       4357 non-null   object\n",
      "dtypes: object(2)\n",
      "memory usage: 68.2+ KB\n"
     ]
    }
   ],
   "source": [
    "df_melt.info()"
   ]
  },
  {
   "cell_type": "code",
   "execution_count": 20,
   "metadata": {
    "scrolled": true
   },
   "outputs": [],
   "source": [
    "#remove all duplicate capabilities\n",
    "df_AllCapabilities = df_melt.drop_duplicates(subset=['Capabilties'])"
   ]
  },
  {
   "cell_type": "code",
   "execution_count": 21,
   "metadata": {},
   "outputs": [
    {
     "data": {
      "text/html": [
       "<div>\n",
       "<style scoped>\n",
       "    .dataframe tbody tr th:only-of-type {\n",
       "        vertical-align: middle;\n",
       "    }\n",
       "\n",
       "    .dataframe tbody tr th {\n",
       "        vertical-align: top;\n",
       "    }\n",
       "\n",
       "    .dataframe thead th {\n",
       "        text-align: right;\n",
       "    }\n",
       "</style>\n",
       "<table border=\"1\" class=\"dataframe\">\n",
       "  <thead>\n",
       "    <tr style=\"text-align: right;\">\n",
       "      <th></th>\n",
       "      <th>Capabilties</th>\n",
       "      <th>Domain</th>\n",
       "    </tr>\n",
       "  </thead>\n",
       "  <tbody>\n",
       "    <tr>\n",
       "      <th>0</th>\n",
       "      <td>Ability to review outstanding Service Requests</td>\n",
       "      <td>Permits</td>\n",
       "    </tr>\n",
       "    <tr>\n",
       "      <th>1</th>\n",
       "      <td>Ability to view a GIS map</td>\n",
       "      <td>Permits</td>\n",
       "    </tr>\n",
       "    <tr>\n",
       "      <th>2</th>\n",
       "      <td>Ability to update close (change Status) a Service Requests</td>\n",
       "      <td>Permits</td>\n",
       "    </tr>\n",
       "    <tr>\n",
       "      <th>3</th>\n",
       "      <td>Ability to view the location of a permit on a map</td>\n",
       "      <td>Permits</td>\n",
       "    </tr>\n",
       "    <tr>\n",
       "      <th>4</th>\n",
       "      <td>Ability to view outstanding Service Requests</td>\n",
       "      <td>Permits</td>\n",
       "    </tr>\n",
       "  </tbody>\n",
       "</table>\n",
       "</div>"
      ],
      "text/plain": [
       "                                                  Capabilties   Domain\n",
       "0              Ability to review outstanding Service Requests  Permits\n",
       "1                                  Ability to view a GIS map   Permits\n",
       "2  Ability to update close (change Status) a Service Requests  Permits\n",
       "3           Ability to view the location of a permit on a map  Permits\n",
       "4                Ability to view outstanding Service Requests  Permits"
      ]
     },
     "execution_count": 21,
     "metadata": {},
     "output_type": "execute_result"
    }
   ],
   "source": [
    "df_AllCapabilities.head()"
   ]
  },
  {
   "cell_type": "markdown",
   "metadata": {
    "slideshow": {
     "slide_type": "skip"
    }
   },
   "source": [
    "## Now the domains can be filtered"
   ]
  },
  {
   "cell_type": "code",
   "execution_count": 22,
   "metadata": {
    "scrolled": true,
    "slideshow": {
     "slide_type": "skip"
    }
   },
   "outputs": [
    {
     "data": {
      "text/plain": [
       "Finance                708\n",
       "Inspections            679\n",
       "Permits                613\n",
       "Citizen Request        572\n",
       "Planning and Zoning    571\n",
       "Licenses               562\n",
       "Code Enforcement       537\n",
       "Portal                 115\n",
       "Name: Domain, dtype: int64"
      ]
     },
     "execution_count": 22,
     "metadata": {},
     "output_type": "execute_result"
    }
   ],
   "source": [
    "# df_melt.groupby(by=['Capabilties','Domain']).count()\\\n",
    "#                                             .reset_index()\n",
    "df_melt['Domain'].value_counts()"
   ]
  },
  {
   "cell_type": "code",
   "execution_count": 23,
   "metadata": {
    "slideshow": {
     "slide_type": "skip"
    }
   },
   "outputs": [],
   "source": [
    "def display_side_by_side(dfs:list, captions:list):\n",
    "    \"\"\"Display tables side by side to save vertical space\n",
    "    Input:\n",
    "        dfs: list of pandas.DataFrame\n",
    "        captions: list of table captions\n",
    "    \"\"\"\n",
    "    output = \"\"\n",
    "    combined = dict(zip(captions, dfs))\n",
    "    for caption, df in combined.items():\n",
    "        output += df.style.set_table_attributes(\"style='display:inline'\").set_caption(caption)._repr_html_()\n",
    "        output += \"\\xa0\\xa0\\xa0\"\n",
    "    display(HTML(output))"
   ]
  },
  {
   "cell_type": "code",
   "execution_count": 24,
   "metadata": {
    "scrolled": false,
    "slideshow": {
     "slide_type": "skip"
    }
   },
   "outputs": [
    {
     "data": {
      "text/html": [
       "<style  type=\"text/css\" >\n",
       "</style><table id=\"T_2bff4520_6d4c_11eb_9535_367dda7eacab\" style='display:inline'><caption>Permits</caption><thead>    <tr>        <th class=\"blank level0\" ></th>        <th class=\"col_heading level0 col0\" >Capabilties</th>        <th class=\"col_heading level0 col1\" >Domain</th>    </tr></thead><tbody>\n",
       "                <tr>\n",
       "                        <th id=\"T_2bff4520_6d4c_11eb_9535_367dda7eacablevel0_row0\" class=\"row_heading level0 row0\" >0</th>\n",
       "                        <td id=\"T_2bff4520_6d4c_11eb_9535_367dda7eacabrow0_col0\" class=\"data row0 col0\" >Ability to review outstanding Service Requests</td>\n",
       "                        <td id=\"T_2bff4520_6d4c_11eb_9535_367dda7eacabrow0_col1\" class=\"data row0 col1\" >Permits</td>\n",
       "            </tr>\n",
       "            <tr>\n",
       "                        <th id=\"T_2bff4520_6d4c_11eb_9535_367dda7eacablevel0_row1\" class=\"row_heading level0 row1\" >1</th>\n",
       "                        <td id=\"T_2bff4520_6d4c_11eb_9535_367dda7eacabrow1_col0\" class=\"data row1 col0\" >Ability to view a GIS map </td>\n",
       "                        <td id=\"T_2bff4520_6d4c_11eb_9535_367dda7eacabrow1_col1\" class=\"data row1 col1\" >Permits</td>\n",
       "            </tr>\n",
       "            <tr>\n",
       "                        <th id=\"T_2bff4520_6d4c_11eb_9535_367dda7eacablevel0_row2\" class=\"row_heading level0 row2\" >2</th>\n",
       "                        <td id=\"T_2bff4520_6d4c_11eb_9535_367dda7eacabrow2_col0\" class=\"data row2 col0\" >Ability to update close (change Status) a Service Requests</td>\n",
       "                        <td id=\"T_2bff4520_6d4c_11eb_9535_367dda7eacabrow2_col1\" class=\"data row2 col1\" >Permits</td>\n",
       "            </tr>\n",
       "            <tr>\n",
       "                        <th id=\"T_2bff4520_6d4c_11eb_9535_367dda7eacablevel0_row3\" class=\"row_heading level0 row3\" >3</th>\n",
       "                        <td id=\"T_2bff4520_6d4c_11eb_9535_367dda7eacabrow3_col0\" class=\"data row3 col0\" >Ability to view the location of a permit on a map</td>\n",
       "                        <td id=\"T_2bff4520_6d4c_11eb_9535_367dda7eacabrow3_col1\" class=\"data row3 col1\" >Permits</td>\n",
       "            </tr>\n",
       "            <tr>\n",
       "                        <th id=\"T_2bff4520_6d4c_11eb_9535_367dda7eacablevel0_row4\" class=\"row_heading level0 row4\" >4</th>\n",
       "                        <td id=\"T_2bff4520_6d4c_11eb_9535_367dda7eacabrow4_col0\" class=\"data row4 col0\" >Ability to view outstanding Service Requests</td>\n",
       "                        <td id=\"T_2bff4520_6d4c_11eb_9535_367dda7eacabrow4_col1\" class=\"data row4 col1\" >Permits</td>\n",
       "            </tr>\n",
       "    </tbody></table>   <style  type=\"text/css\" >\n",
       "</style><table id=\"T_2bff73d8_6d4c_11eb_9535_367dda7eacab\" style='display:inline'><caption>Inspections</caption><thead>    <tr>        <th class=\"blank level0\" ></th>        <th class=\"col_heading level0 col0\" >Capabilties</th>        <th class=\"col_heading level0 col1\" >Domain</th>    </tr></thead><tbody>\n",
       "                <tr>\n",
       "                        <th id=\"T_2bff73d8_6d4c_11eb_9535_367dda7eacablevel0_row0\" class=\"row_heading level0 row0\" >169</th>\n",
       "                        <td id=\"T_2bff73d8_6d4c_11eb_9535_367dda7eacabrow0_col0\" class=\"data row0 col0\" >Ability to add an address to a Complaint</td>\n",
       "                        <td id=\"T_2bff73d8_6d4c_11eb_9535_367dda7eacabrow0_col1\" class=\"data row0 col1\" >Inspections</td>\n",
       "            </tr>\n",
       "            <tr>\n",
       "                        <th id=\"T_2bff73d8_6d4c_11eb_9535_367dda7eacablevel0_row1\" class=\"row_heading level0 row1\" >174</th>\n",
       "                        <td id=\"T_2bff73d8_6d4c_11eb_9535_367dda7eacabrow1_col0\" class=\"data row1 col0\" >Ability to add an address to Equipment </td>\n",
       "                        <td id=\"T_2bff73d8_6d4c_11eb_9535_367dda7eacabrow1_col1\" class=\"data row1 col1\" >Inspections</td>\n",
       "            </tr>\n",
       "            <tr>\n",
       "                        <th id=\"T_2bff73d8_6d4c_11eb_9535_367dda7eacablevel0_row2\" class=\"row_heading level0 row2\" >175</th>\n",
       "                        <td id=\"T_2bff73d8_6d4c_11eb_9535_367dda7eacabrow2_col0\" class=\"data row2 col0\" >Ability to add an address to an Inspection</td>\n",
       "                        <td id=\"T_2bff73d8_6d4c_11eb_9535_367dda7eacabrow2_col1\" class=\"data row2 col1\" >Inspections</td>\n",
       "            </tr>\n",
       "            <tr>\n",
       "                        <th id=\"T_2bff73d8_6d4c_11eb_9535_367dda7eacablevel0_row3\" class=\"row_heading level0 row3\" >205</th>\n",
       "                        <td id=\"T_2bff73d8_6d4c_11eb_9535_367dda7eacabrow3_col0\" class=\"data row3 col0\" >Ability to allow permit holders to request inspections</td>\n",
       "                        <td id=\"T_2bff73d8_6d4c_11eb_9535_367dda7eacabrow3_col1\" class=\"data row3 col1\" >Inspections</td>\n",
       "            </tr>\n",
       "            <tr>\n",
       "                        <th id=\"T_2bff73d8_6d4c_11eb_9535_367dda7eacablevel0_row4\" class=\"row_heading level0 row4\" >254</th>\n",
       "                        <td id=\"T_2bff73d8_6d4c_11eb_9535_367dda7eacabrow4_col0\" class=\"data row4 col0\" >Ability to map Inspections</td>\n",
       "                        <td id=\"T_2bff73d8_6d4c_11eb_9535_367dda7eacabrow4_col1\" class=\"data row4 col1\" >Inspections</td>\n",
       "            </tr>\n",
       "    </tbody></table>   "
      ],
      "text/plain": [
       "<IPython.core.display.HTML object>"
      ]
     },
     "metadata": {},
     "output_type": "display_data"
    }
   ],
   "source": [
    "# pd.set_option('display.max_colwidth', None)\n",
    "display_side_by_side([df_melt[df_melt[\"Domain\"]=='Permits'].head(5)\n",
    "                      , df_melt[df_melt[\"Domain\"]=='Inspections'].head(5)], ['Permits', 'Inspections'])\n"
   ]
  },
  {
   "cell_type": "code",
   "execution_count": 25,
   "metadata": {
    "scrolled": true,
    "slideshow": {
     "slide_type": "skip"
    }
   },
   "outputs": [],
   "source": [
    "domain_list = df_melt['Domain'].value_counts().keys().tolist()\n",
    "Unwanted = ['Utilities','Portal','Salesforce']\n",
    "domain_list = [e for e in domain_list if e not in Unwanted]"
   ]
  },
  {
   "cell_type": "code",
   "execution_count": 26,
   "metadata": {
    "slideshow": {
     "slide_type": "skip"
    }
   },
   "outputs": [
    {
     "name": "stdout",
     "output_type": "stream",
     "text": [
      "7\n"
     ]
    },
    {
     "data": {
      "text/plain": [
       "['Finance',\n",
       " 'Inspections',\n",
       " 'Permits',\n",
       " 'Citizen Request',\n",
       " 'Planning and Zoning',\n",
       " 'Licenses',\n",
       " 'Code Enforcement']"
      ]
     },
     "execution_count": 26,
     "metadata": {},
     "output_type": "execute_result"
    }
   ],
   "source": [
    "print(len(domain_list))\n",
    "domain_list"
   ]
  },
  {
   "cell_type": "code",
   "execution_count": 27,
   "metadata": {
    "slideshow": {
     "slide_type": "skip"
    }
   },
   "outputs": [],
   "source": [
    "# create new database for each domain and save it in a dict\n",
    "dict_of_domainsdf = {}\n",
    "for i in domain_list:\n",
    "    dict_of_domainsdf[\"df_{}\".format(i)] = df_melt[df_melt[\"Domain\"]== i].reset_index(drop=True)"
   ]
  },
  {
   "cell_type": "code",
   "execution_count": 28,
   "metadata": {
    "slideshow": {
     "slide_type": "skip"
    }
   },
   "outputs": [
    {
     "name": "stdout",
     "output_type": "stream",
     "text": [
      "dict_keys(['df_Finance', 'df_Inspections', 'df_Permits', 'df_Citizen Request', 'df_Planning and Zoning', 'df_Licenses', 'df_Code Enforcement'])\n"
     ]
    },
    {
     "data": {
      "text/html": [
       "<div>\n",
       "<style scoped>\n",
       "    .dataframe tbody tr th:only-of-type {\n",
       "        vertical-align: middle;\n",
       "    }\n",
       "\n",
       "    .dataframe tbody tr th {\n",
       "        vertical-align: top;\n",
       "    }\n",
       "\n",
       "    .dataframe thead th {\n",
       "        text-align: right;\n",
       "    }\n",
       "</style>\n",
       "<table border=\"1\" class=\"dataframe\">\n",
       "  <thead>\n",
       "    <tr style=\"text-align: right;\">\n",
       "      <th></th>\n",
       "      <th>Capabilties</th>\n",
       "      <th>Domain</th>\n",
       "    </tr>\n",
       "  </thead>\n",
       "  <tbody>\n",
       "    <tr>\n",
       "      <th>0</th>\n",
       "      <td>Ability to create fee overrides</td>\n",
       "      <td>Finance</td>\n",
       "    </tr>\n",
       "    <tr>\n",
       "      <th>1</th>\n",
       "      <td>Ability to generate an invoice for inspections</td>\n",
       "      <td>Finance</td>\n",
       "    </tr>\n",
       "    <tr>\n",
       "      <th>2</th>\n",
       "      <td>Ability to assign fees to inspection</td>\n",
       "      <td>Finance</td>\n",
       "    </tr>\n",
       "    <tr>\n",
       "      <th>3</th>\n",
       "      <td>Ability to manage Surety Bonds</td>\n",
       "      <td>Finance</td>\n",
       "    </tr>\n",
       "    <tr>\n",
       "      <th>4</th>\n",
       "      <td>Ability to integrate our cart with 3rd party gateways to handle specific payment methods</td>\n",
       "      <td>Finance</td>\n",
       "    </tr>\n",
       "  </tbody>\n",
       "</table>\n",
       "</div>"
      ],
      "text/plain": [
       "                                                                                Capabilties  \\\n",
       "0                                                           Ability to create fee overrides   \n",
       "1                                            Ability to generate an invoice for inspections   \n",
       "2                                                      Ability to assign fees to inspection   \n",
       "3                                                            Ability to manage Surety Bonds   \n",
       "4  Ability to integrate our cart with 3rd party gateways to handle specific payment methods   \n",
       "\n",
       "    Domain  \n",
       "0  Finance  \n",
       "1  Finance  \n",
       "2  Finance  \n",
       "3  Finance  \n",
       "4  Finance  "
      ]
     },
     "execution_count": 28,
     "metadata": {},
     "output_type": "execute_result"
    }
   ],
   "source": [
    "print(dict_of_domainsdf.keys())\n",
    "dict_of_domainsdf['df_Finance'].head()"
   ]
  },
  {
   "cell_type": "code",
   "execution_count": 29,
   "metadata": {
    "slideshow": {
     "slide_type": "slide"
    }
   },
   "outputs": [],
   "source": [
    "df_Finance = dict_of_domainsdf['df_Finance']\n",
    "df_Inspections = dict_of_domainsdf['df_Inspections']\n",
    "df_Permits = dict_of_domainsdf['df_Permits']\n",
    "df_Citizen = dict_of_domainsdf['df_Citizen Request']\n",
    "df_Planning = dict_of_domainsdf['df_Planning and Zoning']\n",
    "df_Licenses = dict_of_domainsdf['df_Licenses']\n",
    "df_Code = dict_of_domainsdf['df_Code Enforcement']"
   ]
  },
  {
   "cell_type": "code",
   "execution_count": 30,
   "metadata": {},
   "outputs": [
    {
     "data": {
      "text/html": [
       "<div>\n",
       "<style scoped>\n",
       "    .dataframe tbody tr th:only-of-type {\n",
       "        vertical-align: middle;\n",
       "    }\n",
       "\n",
       "    .dataframe tbody tr th {\n",
       "        vertical-align: top;\n",
       "    }\n",
       "\n",
       "    .dataframe thead th {\n",
       "        text-align: right;\n",
       "    }\n",
       "</style>\n",
       "<table border=\"1\" class=\"dataframe\">\n",
       "  <thead>\n",
       "    <tr style=\"text-align: right;\">\n",
       "      <th></th>\n",
       "      <th>Capabilties</th>\n",
       "      <th>Domain</th>\n",
       "    </tr>\n",
       "  </thead>\n",
       "  <tbody>\n",
       "    <tr>\n",
       "      <th>0</th>\n",
       "      <td>Ability to search violation codes</td>\n",
       "      <td>Code Enforcement</td>\n",
       "    </tr>\n",
       "    <tr>\n",
       "      <th>1</th>\n",
       "      <td>Ability to view a dashboard with all new and open complaints, and recent activities</td>\n",
       "      <td>Code Enforcement</td>\n",
       "    </tr>\n",
       "    <tr>\n",
       "      <th>2</th>\n",
       "      <td>Ability to reopen a closed complaint</td>\n",
       "      <td>Code Enforcement</td>\n",
       "    </tr>\n",
       "    <tr>\n",
       "      <th>3</th>\n",
       "      <td>Ability to create and track payment plans for monetary sanctions</td>\n",
       "      <td>Code Enforcement</td>\n",
       "    </tr>\n",
       "    <tr>\n",
       "      <th>4</th>\n",
       "      <td>Ability to track actions that need to be taken against a code violation</td>\n",
       "      <td>Code Enforcement</td>\n",
       "    </tr>\n",
       "  </tbody>\n",
       "</table>\n",
       "</div>"
      ],
      "text/plain": [
       "                                                                           Capabilties  \\\n",
       "0                                                    Ability to search violation codes   \n",
       "1  Ability to view a dashboard with all new and open complaints, and recent activities   \n",
       "2                                                 Ability to reopen a closed complaint   \n",
       "3                     Ability to create and track payment plans for monetary sanctions   \n",
       "4              Ability to track actions that need to be taken against a code violation   \n",
       "\n",
       "             Domain  \n",
       "0  Code Enforcement  \n",
       "1  Code Enforcement  \n",
       "2  Code Enforcement  \n",
       "3  Code Enforcement  \n",
       "4  Code Enforcement  "
      ]
     },
     "execution_count": 30,
     "metadata": {},
     "output_type": "execute_result"
    }
   ],
   "source": [
    "df_Code.head(5)"
   ]
  },
  {
   "cell_type": "markdown",
   "metadata": {
    "slideshow": {
     "slide_type": "slide"
    }
   },
   "source": [
    "### Cleaning each domain text"
   ]
  },
  {
   "cell_type": "code",
   "execution_count": 31,
   "metadata": {
    "scrolled": true,
    "slideshow": {
     "slide_type": "-"
    }
   },
   "outputs": [
    {
     "name": "stderr",
     "output_type": "stream",
     "text": [
      "/Users/temitopebadekale/opt/anaconda3/envs/clariti/lib/python3.7/site-packages/pandas/core/frame.py:4174: SettingWithCopyWarning: \n",
      "A value is trying to be set on a copy of a slice from a DataFrame\n",
      "\n",
      "See the caveats in the documentation: https://pandas.pydata.org/pandas-docs/stable/user_guide/indexing.html#returning-a-view-versus-a-copy\n",
      "  errors=errors,\n",
      "/Users/temitopebadekale/opt/anaconda3/envs/clariti/lib/python3.7/site-packages/ipykernel_launcher.py:4: SettingWithCopyWarning: \n",
      "A value is trying to be set on a copy of a slice from a DataFrame.\n",
      "Try using .loc[row_indexer,col_indexer] = value instead\n",
      "\n",
      "See the caveats in the documentation: https://pandas.pydata.org/pandas-docs/stable/user_guide/indexing.html#returning-a-view-versus-a-copy\n",
      "  after removing the cwd from sys.path.\n"
     ]
    }
   ],
   "source": [
    "df_name = [df_Finance, df_Inspections, df_Permits,df_Citizen,df_Planning, df_Licenses, df_Code]\n",
    "for i in (df_Finance, df_Inspections, df_Permits,df_Citizen,df_Planning, df_Licenses, df_Code,df_AllCapabilities):\n",
    "    i.drop(columns=['Domain'],inplace=True)\n",
    "    i['clean_text'] = i['Capabilties'].apply(lambda x:clean(x))"
   ]
  },
  {
   "cell_type": "code",
   "execution_count": 32,
   "metadata": {},
   "outputs": [
    {
     "data": {
      "text/html": [
       "<div>\n",
       "<style scoped>\n",
       "    .dataframe tbody tr th:only-of-type {\n",
       "        vertical-align: middle;\n",
       "    }\n",
       "\n",
       "    .dataframe tbody tr th {\n",
       "        vertical-align: top;\n",
       "    }\n",
       "\n",
       "    .dataframe thead th {\n",
       "        text-align: right;\n",
       "    }\n",
       "</style>\n",
       "<table border=\"1\" class=\"dataframe\">\n",
       "  <thead>\n",
       "    <tr style=\"text-align: right;\">\n",
       "      <th></th>\n",
       "      <th>Capabilties</th>\n",
       "      <th>clean_text</th>\n",
       "    </tr>\n",
       "  </thead>\n",
       "  <tbody>\n",
       "    <tr>\n",
       "      <th>0</th>\n",
       "      <td>Ability to review outstanding Service Requests</td>\n",
       "      <td>ability review outstanding service request</td>\n",
       "    </tr>\n",
       "    <tr>\n",
       "      <th>1</th>\n",
       "      <td>Ability to view a GIS map</td>\n",
       "      <td>ability view gis map</td>\n",
       "    </tr>\n",
       "    <tr>\n",
       "      <th>2</th>\n",
       "      <td>Ability to update close (change Status) a Service Requests</td>\n",
       "      <td>ability update close change status service request</td>\n",
       "    </tr>\n",
       "    <tr>\n",
       "      <th>3</th>\n",
       "      <td>Ability to view the location of a permit on a map</td>\n",
       "      <td>ability view location permit map</td>\n",
       "    </tr>\n",
       "    <tr>\n",
       "      <th>4</th>\n",
       "      <td>Ability to view outstanding Service Requests</td>\n",
       "      <td>ability view outstanding service request</td>\n",
       "    </tr>\n",
       "  </tbody>\n",
       "</table>\n",
       "</div>"
      ],
      "text/plain": [
       "                                                  Capabilties  \\\n",
       "0              Ability to review outstanding Service Requests   \n",
       "1                                  Ability to view a GIS map    \n",
       "2  Ability to update close (change Status) a Service Requests   \n",
       "3           Ability to view the location of a permit on a map   \n",
       "4                Ability to view outstanding Service Requests   \n",
       "\n",
       "                                           clean_text  \n",
       "0          ability review outstanding service request  \n",
       "1                                ability view gis map  \n",
       "2  ability update close change status service request  \n",
       "3                    ability view location permit map  \n",
       "4            ability view outstanding service request  "
      ]
     },
     "execution_count": 32,
     "metadata": {},
     "output_type": "execute_result"
    }
   ],
   "source": [
    "df_AllCapabilities.head(5)"
   ]
  },
  {
   "cell_type": "markdown",
   "metadata": {
    "slideshow": {
     "slide_type": "slide"
    }
   },
   "source": [
    "### create csv file for each domain\n",
    "- run if updating connection to airtable"
   ]
  },
  {
   "cell_type": "markdown",
   "metadata": {},
   "source": [
    "### create a new folder in app2_file folder with the current time"
   ]
  },
  {
   "cell_type": "code",
   "execution_count": 33,
   "metadata": {},
   "outputs": [],
   "source": [
    "mydir = os.path.join(os.getcwd(),'app2_file', dt.datetime.now().strftime('%Y-%b-%d_%H:%M:%S'))\n",
    "os.makedirs(mydir)"
   ]
  },
  {
   "cell_type": "code",
   "execution_count": 34,
   "metadata": {
    "scrolled": true,
    "slideshow": {
     "slide_type": "-"
    }
   },
   "outputs": [],
   "source": [
    "for i,k in zip((df_AllCapabilities,df_Finance, df_Inspections, df_Permits,df_Citizen,df_Planning, df_Licenses, df_Code),\n",
    "             ('All_Capabilities','Finance_domain', 'Inspections_domain', 'Permits_domain',\n",
    "              'Citizen_domain','Planning_domain','Licenses_domain','Code_domain')):\n",
    "    i.to_csv(f'{mydir}/{k}.csv',index = False)"
   ]
  },
  {
   "cell_type": "code",
   "execution_count": 35,
   "metadata": {
    "scrolled": false,
    "slideshow": {
     "slide_type": "-"
    }
   },
   "outputs": [
    {
     "data": {
      "text/html": [
       "<div>\n",
       "<style scoped>\n",
       "    .dataframe tbody tr th:only-of-type {\n",
       "        vertical-align: middle;\n",
       "    }\n",
       "\n",
       "    .dataframe tbody tr th {\n",
       "        vertical-align: top;\n",
       "    }\n",
       "\n",
       "    .dataframe thead th {\n",
       "        text-align: right;\n",
       "    }\n",
       "</style>\n",
       "<table border=\"1\" class=\"dataframe\">\n",
       "  <thead>\n",
       "    <tr style=\"text-align: right;\">\n",
       "      <th></th>\n",
       "      <th>Capabilties</th>\n",
       "      <th>clean_text</th>\n",
       "    </tr>\n",
       "  </thead>\n",
       "  <tbody>\n",
       "    <tr>\n",
       "      <th>0</th>\n",
       "      <td>Ability to call sets of code (classes) in a specific order of execution (Apex Trigger Framework)</td>\n",
       "      <td>ability call set code class specific order execution apex trigger framework</td>\n",
       "    </tr>\n",
       "    <tr>\n",
       "      <th>1</th>\n",
       "      <td>Ability to lookup objects</td>\n",
       "      <td>ability lookup object</td>\n",
       "    </tr>\n",
       "    <tr>\n",
       "      <th>2</th>\n",
       "      <td>Ability to recover deleted Records  (some considerations apply)</td>\n",
       "      <td>ability recover delete record some consideration apply</td>\n",
       "    </tr>\n",
       "    <tr>\n",
       "      <th>3</th>\n",
       "      <td>Ability for emails sent to citizens to contain attachments</td>\n",
       "      <td>ability email send citizen contain attachment</td>\n",
       "    </tr>\n",
       "    <tr>\n",
       "      <th>4</th>\n",
       "      <td>Ability to provide data to DOL that is compatible with SQL Server 2016.</td>\n",
       "      <td>ability provide datum dol compatible sql server 2016</td>\n",
       "    </tr>\n",
       "  </tbody>\n",
       "</table>\n",
       "</div>"
      ],
      "text/plain": [
       "                                                                                        Capabilties  \\\n",
       "0  Ability to call sets of code (classes) in a specific order of execution (Apex Trigger Framework)   \n",
       "1                                                                         Ability to lookup objects   \n",
       "2                                   Ability to recover deleted Records  (some considerations apply)   \n",
       "3                                        Ability for emails sent to citizens to contain attachments   \n",
       "4                           Ability to provide data to DOL that is compatible with SQL Server 2016.   \n",
       "\n",
       "                                                                    clean_text  \n",
       "0  ability call set code class specific order execution apex trigger framework  \n",
       "1                                                        ability lookup object  \n",
       "2                       ability recover delete record some consideration apply  \n",
       "3                                ability email send citizen contain attachment  \n",
       "4                         ability provide datum dol compatible sql server 2016  "
      ]
     },
     "execution_count": 35,
     "metadata": {},
     "output_type": "execute_result"
    }
   ],
   "source": [
    "pd.read_csv(f'{mydir}/Citizen_domain.csv').head()"
   ]
  },
  {
   "cell_type": "code",
   "execution_count": 36,
   "metadata": {},
   "outputs": [
    {
     "data": {
      "text/html": [
       "<div>\n",
       "<style scoped>\n",
       "    .dataframe tbody tr th:only-of-type {\n",
       "        vertical-align: middle;\n",
       "    }\n",
       "\n",
       "    .dataframe tbody tr th {\n",
       "        vertical-align: top;\n",
       "    }\n",
       "\n",
       "    .dataframe thead th {\n",
       "        text-align: right;\n",
       "    }\n",
       "</style>\n",
       "<table border=\"1\" class=\"dataframe\">\n",
       "  <thead>\n",
       "    <tr style=\"text-align: right;\">\n",
       "      <th></th>\n",
       "      <th>Capabilties</th>\n",
       "      <th>clean_text</th>\n",
       "    </tr>\n",
       "  </thead>\n",
       "  <tbody>\n",
       "    <tr>\n",
       "      <th>0</th>\n",
       "      <td>Ability to review outstanding Service Requests</td>\n",
       "      <td>ability review outstanding service request</td>\n",
       "    </tr>\n",
       "    <tr>\n",
       "      <th>1</th>\n",
       "      <td>Ability to view a GIS map</td>\n",
       "      <td>ability view gis map</td>\n",
       "    </tr>\n",
       "    <tr>\n",
       "      <th>2</th>\n",
       "      <td>Ability to update close (change Status) a Service Requests</td>\n",
       "      <td>ability update close change status service request</td>\n",
       "    </tr>\n",
       "    <tr>\n",
       "      <th>3</th>\n",
       "      <td>Ability to view the location of a permit on a map</td>\n",
       "      <td>ability view location permit map</td>\n",
       "    </tr>\n",
       "    <tr>\n",
       "      <th>4</th>\n",
       "      <td>Ability to view outstanding Service Requests</td>\n",
       "      <td>ability view outstanding service request</td>\n",
       "    </tr>\n",
       "  </tbody>\n",
       "</table>\n",
       "</div>"
      ],
      "text/plain": [
       "                                                  Capabilties  \\\n",
       "0              Ability to review outstanding Service Requests   \n",
       "1                                  Ability to view a GIS map    \n",
       "2  Ability to update close (change Status) a Service Requests   \n",
       "3           Ability to view the location of a permit on a map   \n",
       "4                Ability to view outstanding Service Requests   \n",
       "\n",
       "                                           clean_text  \n",
       "0          ability review outstanding service request  \n",
       "1                                ability view gis map  \n",
       "2  ability update close change status service request  \n",
       "3                    ability view location permit map  \n",
       "4            ability view outstanding service request  "
      ]
     },
     "execution_count": 36,
     "metadata": {},
     "output_type": "execute_result"
    }
   ],
   "source": [
    "pd.read_csv(f'{mydir}/All_Capabilities.csv').head()"
   ]
  },
  {
   "cell_type": "code",
   "execution_count": 37,
   "metadata": {
    "slideshow": {
     "slide_type": "skip"
    }
   },
   "outputs": [],
   "source": [
    "os.environ['KMP_DUPLICATE_LIB_OK']='True'\n",
    "module_url = './tfhub_modules/063d866c06683311b44b4992fd46003be952409c'\n",
    "\n",
    "# Import the Universal Sentence Encoder's TF Hub module\n",
    "model = hub.load(module_url)"
   ]
  },
  {
   "cell_type": "markdown",
   "metadata": {
    "slideshow": {
     "slide_type": "slide"
    }
   },
   "source": [
    "### Train the model on each domain files\n",
    "- run if updating connection to airtable"
   ]
  },
  {
   "cell_type": "code",
   "execution_count": 38,
   "metadata": {
    "slideshow": {
     "slide_type": "-"
    }
   },
   "outputs": [],
   "source": [
    "raw_text = []\n",
    "corpus = []\n",
    "for i in (df_AllCapabilities,df_Finance, df_Inspections, df_Permits,df_Citizen,df_Planning, df_Licenses, df_Code):\n",
    "    x = i['Capabilties'].tolist()\n",
    "    raw_text.append(x)\n",
    "    y = i['clean_text'].tolist()\n",
    "    corpus.append(y)\n",
    "    \n",
    "corpus_embeddings = []\n",
    "for corp in corpus:\n",
    "    corpus_embeddings.append(model(corp)) "
   ]
  },
  {
   "cell_type": "code",
   "execution_count": 39,
   "metadata": {
    "scrolled": true,
    "slideshow": {
     "slide_type": "skip"
    }
   },
   "outputs": [
    {
     "name": "stdout",
     "output_type": "stream",
     "text": [
      "8\n"
     ]
    },
    {
     "data": {
      "text/plain": [
       "<tf.Tensor: id=5314, shape=(1084, 512), dtype=float32, numpy=\n",
       "array([[-0.0140986 , -0.00868113, -0.0408753 , ..., -0.0393325 ,\n",
       "         0.00806392,  0.01393174],\n",
       "       [ 0.05388511, -0.03091858, -0.0481126 , ..., -0.02380868,\n",
       "        -0.02116611, -0.02129252],\n",
       "       [ 0.00075236, -0.01626579, -0.06492362, ...,  0.04181892,\n",
       "        -0.02195569,  0.04346166],\n",
       "       ...,\n",
       "       [ 0.03958058, -0.00426544, -0.05827956, ..., -0.04025534,\n",
       "         0.05216417,  0.03156464],\n",
       "       [ 0.06561497, -0.00097827,  0.0561373 , ..., -0.02502465,\n",
       "         0.0126515 , -0.03551616],\n",
       "       [ 0.05993295,  0.01314416, -0.01566146, ...,  0.01540744,\n",
       "        -0.05160278, -0.06540434]], dtype=float32)>"
      ]
     },
     "execution_count": 39,
     "metadata": {},
     "output_type": "execute_result"
    }
   ],
   "source": [
    "print(len(corpus))\n",
    "model(corpus[0])"
   ]
  },
  {
   "cell_type": "markdown",
   "metadata": {
    "slideshow": {
     "slide_type": "slide"
    }
   },
   "source": [
    "### Saving corpus_embedding as a plk file to be used by other .py file\n",
    "- run if updating connection to airtable\n",
    "- run the dump section"
   ]
  },
  {
   "cell_type": "code",
   "execution_count": 40,
   "metadata": {
    "slideshow": {
     "slide_type": "-"
    }
   },
   "outputs": [],
   "source": [
    "PIK=f'{mydir}/All_Domains.plk'\n",
    "with open(PIK, \"wb\") as f:\n",
    "    pickle.dump(len(corpus_embeddings), f)\n",
    "    for value in corpus_embeddings:\n",
    "        pickle.dump(value, f)"
   ]
  },
  {
   "cell_type": "markdown",
   "metadata": {
    "slideshow": {
     "slide_type": "slide"
    }
   },
   "source": [
    "## using pickled and saved files"
   ]
  },
  {
   "cell_type": "code",
   "execution_count": 58,
   "metadata": {
    "scrolled": true
   },
   "outputs": [
    {
     "name": "stdout",
     "output_type": "stream",
     "text": [
      "['2021-Feb-12_09:05:55', '2021-Jan-19_09:49:59', '2021-Jan-18_13:47:42', '2021-Jan-18_12:34:37', '2021-Jan-18_12:21:04'] \n",
      "\n",
      "/Users/temitopebadekale/Documents/clariiti/app2_file/2021-Feb-12_09:05:55\n"
     ]
    }
   ],
   "source": [
    "all_files = os.listdir(\"app2_file\")\n",
    "all_files = filter(lambda x: x != '.DS_Store', all_files)\n",
    "all_files = sorted(all_files ,key = lambda date: datetime.datetime.strptime(date, '%Y-%b-%d_%X'),reverse=True)\n",
    "file_path = os.path.join(os.getcwd(),'app2_file',all_files[0])\n",
    "print(all_files,'\\n')\n",
    "print(file_path)"
   ]
  },
  {
   "cell_type": "code",
   "execution_count": 61,
   "metadata": {
    "slideshow": {
     "slide_type": "-"
    }
   },
   "outputs": [],
   "source": [
    "#reads each file from the above path into pd dataframe\n",
    "Alldomain_raw=[]\n",
    "for x in ('All_Capabilities','Finance_domain', 'Inspections_domain', 'Permits_domain',\n",
    "              'Citizen_domain','Planning_domain','Licenses_domain','Code_domain'):\n",
    "    x= pd.read_csv(f'{file_path}/{x}.csv')['Capabilties'].tolist()\n",
    "    Alldomain_raw.append(x)"
   ]
  },
  {
   "cell_type": "code",
   "execution_count": 62,
   "metadata": {},
   "outputs": [],
   "source": [
    "#reads the trained model of each file\n",
    "pickle_domain= []\n",
    "Path_dir=f'{file_path}/All_Domains.plk'\n",
    "with open(Path_dir, \"rb\") as f:\n",
    "    for _ in range(pickle.load(f)):\n",
    "        pickle_domain.append(pickle.load(f))"
   ]
  },
  {
   "cell_type": "code",
   "execution_count": 63,
   "metadata": {
    "slideshow": {
     "slide_type": "slide"
    }
   },
   "outputs": [],
   "source": [
    "### Test the code\n",
    "queries=['Ability to apply for a new address']\n",
    "clean_queries = [clean(i)for i in queries]\n",
    "query_embeddings = model(clean_queries)"
   ]
  },
  {
   "cell_type": "code",
   "execution_count": 66,
   "metadata": {
    "scrolled": true,
    "slideshow": {
     "slide_type": "-"
    }
   },
   "outputs": [
    {
     "name": "stdout",
     "output_type": "stream",
     "text": [
      "For All domain   \n",
      "\n",
      "\n",
      "======================\n",
      "\n",
      "Query: Ability to apply for a new address \n",
      "\n",
      "Top 10 most similar sentences in corpus:\n",
      "Ability to apply for a new address Score 100%\n",
      "Ability to create new addresses Score 85%\n",
      "Ability to add an address to a  license Score 72%\n",
      "Ability to add an address to a permit Score 71%\n",
      "Ability to add an address to an Application Score 70%\n",
      "Ability to create new addresses in bulk (future) Score 68%\n",
      "Ability to manage addresses Score 67%\n",
      "Ability to add an address to a Complaint Score 66%\n",
      "Ability to associate an address on a permit Score 64%\n",
      "Ability to add an address to Equipment Score 63%\n"
     ]
    }
   ],
   "source": [
    "domain_id = ['All','Finance', 'Inspections', 'Permits', 'Citizen Request',\n",
    "             'Planning and Zoning', 'Licenses', 'Code Enforcement']\n",
    "closest_n = 10;domain = 0;sc=60\n",
    "for query, query_embedding in zip(queries, query_embeddings):\n",
    "    distances = scipy.spatial.distance.cdist([query_embedding], pickle_domain[domain], \"cosine\")[0]\n",
    "\n",
    "    results = zip(range(len(distances)), distances)\n",
    "    results = sorted(results, key=lambda x: x[1])\n",
    "    print(f'For {domain_id[domain]} domain  ','\\n')\n",
    "    print(\"\\n======================\\n\")\n",
    "    print(\"Query:\", query,\"\\n\")\n",
    "    print(f'Top {closest_n} most similar sentences in corpus:')\n",
    "\n",
    "    for idx, distance in results[0:closest_n]:\n",
    "        x =(1-distance)*100\n",
    "        if x >= sc:\n",
    "            print(Alldomain_raw[domain][idx].strip(), f\"Score {x:.0f}%\" )"
   ]
  }
 ],
 "metadata": {
  "celltoolbar": "Slideshow",
  "kernelspec": {
   "display_name": "Python 3",
   "language": "python",
   "name": "python3"
  },
  "language_info": {
   "codemirror_mode": {
    "name": "ipython",
    "version": 3
   },
   "file_extension": ".py",
   "mimetype": "text/x-python",
   "name": "python",
   "nbconvert_exporter": "python",
   "pygments_lexer": "ipython3",
   "version": "3.7.9"
  }
 },
 "nbformat": 4,
 "nbformat_minor": 4
}